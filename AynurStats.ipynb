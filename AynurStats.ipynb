{
 "cells": [
  {
   "cell_type": "code",
   "execution_count": 1,
   "metadata": {},
   "outputs": [
    {
     "data": {
      "text/html": [
       "<style>.container{width: 100%}</style>"
      ],
      "text/plain": [
       "<IPython.core.display.HTML object>"
      ]
     },
     "metadata": {},
     "output_type": "display_data"
    }
   ],
   "source": [
    "from IPython.display import display, HTML\n",
    "from datetime import datetime\n",
    "import pandas as pd\n",
    "from Utils import read_csvs\n",
    "from matplotlib import pyplot as plt\n",
    "\n",
    "display(HTML(\"<style>.container{width: 100%}</style>\"))"
   ]
  },
  {
   "cell_type": "code",
   "execution_count": 8,
   "metadata": {},
   "outputs": [],
   "source": [
    "df = read_csvs(*(f\"./data/avk_hackathon_data_transactions-{i}.csv\" for i in range(1, 13)), parse_dates=[\"transaction_dttm\"])"
   ]
  },
  {
   "cell_type": "code",
   "execution_count": 9,
   "metadata": {},
   "outputs": [
    {
     "data": {
      "text/plain": [
       "(11987617, 10)"
      ]
     },
     "execution_count": 9,
     "metadata": {},
     "output_type": "execute_result"
    }
   ],
   "source": [
    "df.shape"
   ]
  },
  {
   "cell_type": "code",
   "execution_count": 12,
   "metadata": {},
   "outputs": [
    {
     "data": {
      "text/html": [
       "<div>\n",
       "<style scoped>\n",
       "    .dataframe tbody tr th:only-of-type {\n",
       "        vertical-align: middle;\n",
       "    }\n",
       "\n",
       "    .dataframe tbody tr th {\n",
       "        vertical-align: top;\n",
       "    }\n",
       "\n",
       "    .dataframe thead th {\n",
       "        text-align: right;\n",
       "    }\n",
       "</style>\n",
       "<table border=\"1\" class=\"dataframe\">\n",
       "  <thead>\n",
       "    <tr style=\"text-align: right;\">\n",
       "      <th></th>\n",
       "      <th>party_rk</th>\n",
       "      <th>account_rk</th>\n",
       "      <th>financial_account_type_cd</th>\n",
       "      <th>transaction_dttm</th>\n",
       "      <th>transaction_type_desc</th>\n",
       "      <th>transaction_amt_rur</th>\n",
       "      <th>merchant_rk</th>\n",
       "      <th>merchant_type</th>\n",
       "      <th>merchant_group_rk</th>\n",
       "      <th>category</th>\n",
       "    </tr>\n",
       "  </thead>\n",
       "  <tbody>\n",
       "    <tr>\n",
       "      <th>11987612</th>\n",
       "      <td>44990</td>\n",
       "      <td>111641</td>\n",
       "      <td>1</td>\n",
       "      <td>2019-12-31</td>\n",
       "      <td>Покупка</td>\n",
       "      <td>121.00</td>\n",
       "      <td>1940970.0</td>\n",
       "      <td>330.0</td>\n",
       "      <td>675.0</td>\n",
       "      <td>Фаст Фуд</td>\n",
       "    </tr>\n",
       "    <tr>\n",
       "      <th>11987613</th>\n",
       "      <td>53023</td>\n",
       "      <td>57593</td>\n",
       "      <td>2</td>\n",
       "      <td>2019-12-31</td>\n",
       "      <td>Покупка</td>\n",
       "      <td>102.29</td>\n",
       "      <td>1198564.0</td>\n",
       "      <td>286.0</td>\n",
       "      <td>NaN</td>\n",
       "      <td>Супермаркеты</td>\n",
       "    </tr>\n",
       "    <tr>\n",
       "      <th>11987614</th>\n",
       "      <td>78716</td>\n",
       "      <td>99133</td>\n",
       "      <td>1</td>\n",
       "      <td>2019-12-31</td>\n",
       "      <td>Покупка</td>\n",
       "      <td>175.00</td>\n",
       "      <td>2688766.0</td>\n",
       "      <td>229.0</td>\n",
       "      <td>901.0</td>\n",
       "      <td>Транспорт</td>\n",
       "    </tr>\n",
       "    <tr>\n",
       "      <th>11987615</th>\n",
       "      <td>73104</td>\n",
       "      <td>91039</td>\n",
       "      <td>2</td>\n",
       "      <td>2019-12-31</td>\n",
       "      <td>Покупка</td>\n",
       "      <td>185.99</td>\n",
       "      <td>1965313.0</td>\n",
       "      <td>286.0</td>\n",
       "      <td>878.0</td>\n",
       "      <td>Супермаркеты</td>\n",
       "    </tr>\n",
       "    <tr>\n",
       "      <th>11987616</th>\n",
       "      <td>42916</td>\n",
       "      <td>125082</td>\n",
       "      <td>1</td>\n",
       "      <td>2019-12-31</td>\n",
       "      <td>Покупка</td>\n",
       "      <td>431.00</td>\n",
       "      <td>2007688.0</td>\n",
       "      <td>330.0</td>\n",
       "      <td>675.0</td>\n",
       "      <td>Фаст Фуд</td>\n",
       "    </tr>\n",
       "  </tbody>\n",
       "</table>\n",
       "</div>"
      ],
      "text/plain": [
       "          party_rk  account_rk  financial_account_type_cd transaction_dttm  \\\n",
       "11987612     44990      111641                          1       2019-12-31   \n",
       "11987613     53023       57593                          2       2019-12-31   \n",
       "11987614     78716       99133                          1       2019-12-31   \n",
       "11987615     73104       91039                          2       2019-12-31   \n",
       "11987616     42916      125082                          1       2019-12-31   \n",
       "\n",
       "         transaction_type_desc  transaction_amt_rur  merchant_rk  \\\n",
       "11987612               Покупка               121.00    1940970.0   \n",
       "11987613               Покупка               102.29    1198564.0   \n",
       "11987614               Покупка               175.00    2688766.0   \n",
       "11987615               Покупка               185.99    1965313.0   \n",
       "11987616               Покупка               431.00    2007688.0   \n",
       "\n",
       "          merchant_type  merchant_group_rk      category  \n",
       "11987612          330.0              675.0      Фаст Фуд  \n",
       "11987613          286.0                NaN  Супермаркеты  \n",
       "11987614          229.0              901.0     Транспорт  \n",
       "11987615          286.0              878.0  Супермаркеты  \n",
       "11987616          330.0              675.0      Фаст Фуд  "
      ]
     },
     "execution_count": 12,
     "metadata": {},
     "output_type": "execute_result"
    }
   ],
   "source": [
    "df.tail()"
   ]
  },
  {
   "cell_type": "code",
   "execution_count": 13,
   "metadata": {},
   "outputs": [
    {
     "name": "stdout",
     "output_type": "stream",
     "text": [
      "[nan, 'Duty Free', 'Авиабилеты', 'Автоуслуги', 'Аптеки', 'Аренда авто', 'Госсборы', 'Дом/Ремонт', 'Ж/д билеты', 'Животные', 'Искусство', 'Кино', 'Книги', 'Красота', 'Медицинские услуги', 'Музыка', 'НКО', 'Наличные', 'Образование', 'Одежда/Обувь', 'Отели', 'Развлечения', 'Разные товары', 'Рестораны', 'Связь/Телеком', 'Сервисные услуги', 'Спорттовары', 'Сувениры', 'Супермаркеты', 'Топливо', 'Транспорт', 'Турагентства', 'Фаст Фуд', 'Финансовые услуги', 'Фото/Видео', 'Цветы', 'Частные услуги'] 66583 50000\n"
     ]
    }
   ],
   "source": [
    "categories = [float('nan')] + sorted(c for c in set(df['category']) if isinstance(c, str))\n",
    "\n",
    "index_for_category = {c: i for i, c in enumerate(categories)}\n",
    "\n",
    "parties = [c for c in set(df['party_rk'])]\n",
    "accounts = [c for c in set(df['account_rk'])]\n",
    "\n",
    "print(categories, len(accounts), len(parties))"
   ]
  },
  {
   "cell_type": "code",
   "execution_count": 72,
   "metadata": {},
   "outputs": [],
   "source": [
    "df[\"weeknum\"] = df['transaction_dttm'].map(lambda x: x.isocalendar()[1])"
   ]
  },
  {
   "cell_type": "code",
   "execution_count": 88,
   "metadata": {},
   "outputs": [],
   "source": [
    "df[\"cnt\"] = 1"
   ]
  },
  {
   "cell_type": "code",
   "execution_count": 27,
   "metadata": {},
   "outputs": [
    {
     "data": {
      "image/png": "[encoded data removed]",
      "text/plain": [
       "<Figure size 432x288 with 1 Axes>"
      ]
     },
     "metadata": {
      "needs_background": "light"
     },
     "output_type": "display_data"
    }
   ],
   "source": [
    "for p in parties:\n",
    "    subdf = df[df['party_rk']==p]\n",
    "    dates = subdf[\"transaction_dttm\"]\n",
    "    amt = subdf[\"transaction_amt_rur\"]\n",
    "#     plt.hist(subdf)\n",
    "    plt.plot(dates, amt, \"bo\")\n",
    "    break"
   ]
  },
  {
   "cell_type": "code",
   "execution_count": 89,
   "metadata": {},
   "outputs": [
    {
     "data": {
      "text/plain": [
       "(4241496, 5)"
      ]
     },
     "metadata": {},
     "output_type": "display_data"
    },
    {
     "data": {
      "text/html": [
       "<div>\n",
       "<style scoped>\n",
       "    .dataframe tbody tr th:only-of-type {\n",
       "        vertical-align: middle;\n",
       "    }\n",
       "\n",
       "    .dataframe tbody tr th {\n",
       "        vertical-align: top;\n",
       "    }\n",
       "\n",
       "    .dataframe thead th {\n",
       "        text-align: right;\n",
       "    }\n",
       "</style>\n",
       "<table border=\"1\" class=\"dataframe\">\n",
       "  <thead>\n",
       "    <tr style=\"text-align: right;\">\n",
       "      <th></th>\n",
       "      <th>party_rk</th>\n",
       "      <th>weeknum</th>\n",
       "      <th>category</th>\n",
       "      <th>transaction_amt_rur</th>\n",
       "      <th>cnt</th>\n",
       "    </tr>\n",
       "  </thead>\n",
       "  <tbody>\n",
       "    <tr>\n",
       "      <th>0</th>\n",
       "      <td>1</td>\n",
       "      <td>6</td>\n",
       "      <td>Одежда/Обувь</td>\n",
       "      <td>2955.00</td>\n",
       "      <td>1</td>\n",
       "    </tr>\n",
       "    <tr>\n",
       "      <th>1</th>\n",
       "      <td>1</td>\n",
       "      <td>6</td>\n",
       "      <td>Супермаркеты</td>\n",
       "      <td>6320.05</td>\n",
       "      <td>5</td>\n",
       "    </tr>\n",
       "    <tr>\n",
       "      <th>2</th>\n",
       "      <td>1</td>\n",
       "      <td>6</td>\n",
       "      <td>Фаст Фуд</td>\n",
       "      <td>923.00</td>\n",
       "      <td>3</td>\n",
       "    </tr>\n",
       "    <tr>\n",
       "      <th>3</th>\n",
       "      <td>1</td>\n",
       "      <td>7</td>\n",
       "      <td>Супермаркеты</td>\n",
       "      <td>711.20</td>\n",
       "      <td>1</td>\n",
       "    </tr>\n",
       "    <tr>\n",
       "      <th>4</th>\n",
       "      <td>1</td>\n",
       "      <td>8</td>\n",
       "      <td>Супермаркеты</td>\n",
       "      <td>993.10</td>\n",
       "      <td>1</td>\n",
       "    </tr>\n",
       "  </tbody>\n",
       "</table>\n",
       "</div>"
      ],
      "text/plain": [
       "   party_rk  weeknum      category  transaction_amt_rur  cnt\n",
       "0         1        6  Одежда/Обувь              2955.00    1\n",
       "1         1        6  Супермаркеты              6320.05    5\n",
       "2         1        6      Фаст Фуд               923.00    3\n",
       "3         1        7  Супермаркеты               711.20    1\n",
       "4         1        8  Супермаркеты               993.10    1"
      ]
     },
     "execution_count": 89,
     "metadata": {},
     "output_type": "execute_result"
    }
   ],
   "source": [
    "grouped = df.groupby([\"party_rk\", \"weeknum\", \"category\"]).aggregate({'transaction_amt_rur':'sum', 'cnt': 'sum'}).reset_index()\n",
    "display(grouped.shape)\n",
    "grouped.head()"
   ]
  },
  {
   "cell_type": "code",
   "execution_count": 94,
   "metadata": {},
   "outputs": [
    {
     "data": {
      "text/plain": [
       "[<matplotlib.lines.Line2D at 0x7fb6a6d8a3d0>]"
      ]
     },
     "execution_count": 94,
     "metadata": {},
     "output_type": "execute_result"
    },
    {
     "data": {
      "image/png": "[encoded data removed]",
      "text/plain": [
       "<Figure size 432x288 with 1 Axes>"
      ]
     },
     "metadata": {
      "needs_background": "light"
     },
     "output_type": "display_data"
    }
   ],
   "source": [
    "g1 = df.groupby([\"party_rk\", \"weeknum\"]).aggregate({'transaction_amt_rur': 'sum'}).reset_index().groupby([\"weeknum\"]).aggregate({'transaction_amt_rur': 'mean'}).reset_index()\n",
    "plt.plot(g1['weeknum'], g1['transaction_amt_rur'])"
   ]
  },
  {
   "cell_type": "code",
   "execution_count": 95,
   "metadata": {},
   "outputs": [],
   "source": [
    "for row in df.itertuples():\n",
    "    break"
   ]
  },
  {
   "cell_type": "code",
   "execution_count": 96,
   "metadata": {},
   "outputs": [
    {
     "data": {
      "text/plain": [
       "Pandas(Index=0, party_rk=20337, account_rk=19666, financial_account_type_cd=1, transaction_dttm=Timestamp('2019-01-01 00:00:00'), transaction_type_desc='Покупка', transaction_amt_rur=84.0, merchant_rk=88676.0, merchant_type=348.0, merchant_group_rk=nan, category='Сувениры', weeknum=1, cnt=1)"
      ]
     },
     "execution_count": 96,
     "metadata": {},
     "output_type": "execute_result"
    }
   ],
   "source": [
    "row"
   ]
  },
  {
   "cell_type": "code",
   "execution_count": 98,
   "metadata": {},
   "outputs": [
    {
     "data": {
      "text/plain": [
       "['Index',\n",
       " '__add__',\n",
       " '__class__',\n",
       " '__contains__',\n",
       " '__delattr__',\n",
       " '__dir__',\n",
       " '__doc__',\n",
       " '__eq__',\n",
       " '__format__',\n",
       " '__ge__',\n",
       " '__getattribute__',\n",
       " '__getitem__',\n",
       " '__getnewargs__',\n",
       " '__gt__',\n",
       " '__hash__',\n",
       " '__init__',\n",
       " '__init_subclass__',\n",
       " '__iter__',\n",
       " '__le__',\n",
       " '__len__',\n",
       " '__lt__',\n",
       " '__module__',\n",
       " '__mul__',\n",
       " '__ne__',\n",
       " '__new__',\n",
       " '__reduce__',\n",
       " '__reduce_ex__',\n",
       " '__repr__',\n",
       " '__rmul__',\n",
       " '__setattr__',\n",
       " '__sizeof__',\n",
       " '__slots__',\n",
       " '__str__',\n",
       " '__subclasshook__',\n",
       " '_asdict',\n",
       " '_field_defaults',\n",
       " '_fields',\n",
       " '_fields_defaults',\n",
       " '_make',\n",
       " '_replace',\n",
       " 'account_rk',\n",
       " 'category',\n",
       " 'cnt',\n",
       " 'count',\n",
       " 'financial_account_type_cd',\n",
       " 'index',\n",
       " 'merchant_group_rk',\n",
       " 'merchant_rk',\n",
       " 'merchant_type',\n",
       " 'party_rk',\n",
       " 'transaction_amt_rur',\n",
       " 'transaction_dttm',\n",
       " 'transaction_type_desc',\n",
       " 'weeknum']"
      ]
     },
     "execution_count": 98,
     "metadata": {},
     "output_type": "execute_result"
    }
   ],
   "source": [
    "dir(row)"
   ]
  },
  {
   "cell_type": "code",
   "execution_count": 101,
   "metadata": {},
   "outputs": [
    {
     "data": {
      "text/plain": [
       "{'Index': 0,\n",
       " 'party_rk': 20337,\n",
       " 'account_rk': 19666,\n",
       " 'financial_account_type_cd': 1,\n",
       " 'transaction_dttm': Timestamp('2019-01-01 00:00:00'),\n",
       " 'transaction_type_desc': 'Покупка',\n",
       " 'transaction_amt_rur': 84.0,\n",
       " 'merchant_rk': 88676.0,\n",
       " 'merchant_type': 348.0,\n",
       " 'merchant_group_rk': nan,\n",
       " 'category': 'Сувениры',\n",
       " 'weeknum': 1,\n",
       " 'cnt': 1}"
      ]
     },
     "execution_count": 101,
     "metadata": {},
     "output_type": "execute_result"
    }
   ],
   "source": [
    "dict(2)"
   ]
  },
  {
   "cell_type": "code",
   "execution_count": null,
   "metadata": {},
   "outputs": [],
   "source": []
  }
 ],
 "metadata": {
  "kernelspec": {
   "display_name": "Python 3",
   "language": "python",
   "name": "python3"
  },
  "language_info": {
   "codemirror_mode": {
    "name": "ipython",
    "version": 3
   },
   "file_extension": ".py",
   "mimetype": "text/x-python",
   "name": "python",
   "nbconvert_exporter": "python",
   "pygments_lexer": "ipython3",
   "version": "3.7.6"
  }
 },
 "nbformat": 4,
 "nbformat_minor": 4
}
